{
 "cells": [
  {
   "cell_type": "markdown",
   "metadata": {},
   "source": [
    "# Statistical Methods in Pandas - Lab"
   ]
  },
  {
   "cell_type": "markdown",
   "metadata": {},
   "source": [
    "## Introduction\n",
    "\n",
    "In this lab you'll get some hands-on experience using some of the key summary statistics methods in Pandas."
   ]
  },
  {
   "cell_type": "markdown",
   "metadata": {},
   "source": [
    "## Objectives\n",
    "You will be able to:\n",
    "\n",
    "- Calculate summary statistics for a series and DataFrame \n",
    "- Use the `.apply()` or `.applymap()` methods to apply a function to a pandas series or DataFrame  \n",
    "\n",
    "\n",
    "## Getting Started\n",
    "\n",
    "For this lab, we'll be working with a dataset containing information on various lego datasets. You will find this dataset in the file `'lego_sets.csv'`.   \n",
    "\n",
    "In the cell below:\n",
    "\n",
    "- Import Pandas and set the standard alias of `pd`\n",
    "- Import the `'lego_sets.csv'` dataset \n",
    "- Display the first five rows of the DataFrame to get a feel for what we'll be working with"
   ]
  },
  {
   "cell_type": "code",
   "execution_count": 30,
   "metadata": {},
   "outputs": [
    {
     "name": "stdout",
     "output_type": "stream",
     "text": [
      "<class 'pandas.core.frame.DataFrame'>\n",
      "RangeIndex: 12261 entries, 0 to 12260\n",
      "Data columns (total 14 columns):\n",
      " #   Column             Non-Null Count  Dtype  \n",
      "---  ------             --------------  -----  \n",
      " 0   ages               12261 non-null  object \n",
      " 1   list_price         12261 non-null  float64\n",
      " 2   num_reviews        10641 non-null  float64\n",
      " 3   piece_count        12261 non-null  float64\n",
      " 4   play_star_rating   10486 non-null  float64\n",
      " 5   prod_desc          11884 non-null  object \n",
      " 6   prod_id            12261 non-null  float64\n",
      " 7   prod_long_desc     12261 non-null  object \n",
      " 8   review_difficulty  10206 non-null  object \n",
      " 9   set_name           12261 non-null  object \n",
      " 10  star_rating        10641 non-null  float64\n",
      " 11  theme_name         12258 non-null  object \n",
      " 12  val_star_rating    10466 non-null  float64\n",
      " 13  country            12261 non-null  object \n",
      "dtypes: float64(7), object(7)\n",
      "memory usage: 1.3+ MB\n"
     ]
    }
   ],
   "source": [
    "# Import pandas\n",
    "import pandas as pd\n",
    "\n",
    "# Import the 'lego_sets.csv' dataset\n",
    "df = pd.read_csv('lego_sets.csv')\n",
    "\n",
    "# Print the first five rows of DataFrame\n",
    "df.head()\n",
    "df.info()"
   ]
  },
  {
   "cell_type": "markdown",
   "metadata": {},
   "source": [
    "## Getting DataFrame-Level Statistics\n",
    "\n",
    "We'll begin by getting some overall summary statistics on the dataset. There are two ways we'll get this information -- `.info()` and `.describe()`.\n",
    "\n",
    "The `.info()` method provides us metadata on the DataFrame itself. This allows us to answer questions such as:\n",
    "\n",
    "* What data type does each column contain?\n",
    "* How many rows are in my dataset? \n",
    "* How many total non-missing values does each column contain?\n",
    "* How much memory does the DataFrame take up?\n",
    "\n",
    "In the cell below, call our DataFrame's `.info()` method. "
   ]
  },
  {
   "cell_type": "code",
   "execution_count": 4,
   "metadata": {},
   "outputs": [
    {
     "name": "stdout",
     "output_type": "stream",
     "text": [
      "<class 'pandas.core.frame.DataFrame'>\n",
      "RangeIndex: 12261 entries, 0 to 12260\n",
      "Data columns (total 14 columns):\n",
      " #   Column             Non-Null Count  Dtype  \n",
      "---  ------             --------------  -----  \n",
      " 0   ages               12261 non-null  object \n",
      " 1   list_price         12261 non-null  float64\n",
      " 2   num_reviews        10641 non-null  float64\n",
      " 3   piece_count        12261 non-null  float64\n",
      " 4   play_star_rating   10486 non-null  float64\n",
      " 5   prod_desc          11884 non-null  object \n",
      " 6   prod_id            12261 non-null  float64\n",
      " 7   prod_long_desc     12261 non-null  object \n",
      " 8   review_difficulty  10206 non-null  object \n",
      " 9   set_name           12261 non-null  object \n",
      " 10  star_rating        10641 non-null  float64\n",
      " 11  theme_name         12258 non-null  object \n",
      " 12  val_star_rating    10466 non-null  float64\n",
      " 13  country            12261 non-null  object \n",
      "dtypes: float64(7), object(7)\n",
      "memory usage: 1.3+ MB\n"
     ]
    }
   ],
   "source": [
    "# Call the .info() method\n",
    "df.info()"
   ]
  },
  {
   "cell_type": "markdown",
   "metadata": {},
   "source": [
    "#### Interpreting the Results\n",
    "\n",
    "Read the output above, and then answer the following questions:\n",
    "\n",
    "- How many total rows are in this DataFrame?  \n",
    "- How many columns contain numeric data? \n",
    "- How many contain categorical data? \n",
    "- Identify at least 3 columns that contain missing values. \n",
    "\n",
    "Write your answer below this line:\n",
    "________________________________________________________________________________________________________________________________\n",
    "- 12,261 rows\n",
    "- 7 columns contain numeric (float) data\n",
    "- 7 contain string data\n",
    "- Some of the columns that contain missing values include:\n",
    "    - num_reviews\n",
    "    - product_desc\n",
    "    - review_difficulty"
   ]
  },
  {
   "cell_type": "markdown",
   "metadata": {},
   "source": [
    "Whereas `.info()` provides statistics about the DataFrame itself, `.describe()` returns output containing basic summary statistics about the data contained with the DataFrame.  \n",
    "\n",
    "In the cell below, call the DataFrame's `.describe()` method. "
   ]
  },
  {
   "cell_type": "code",
   "execution_count": 5,
   "metadata": {},
   "outputs": [
    {
     "data": {
      "text/html": [
       "<div>\n",
       "<style scoped>\n",
       "    .dataframe tbody tr th:only-of-type {\n",
       "        vertical-align: middle;\n",
       "    }\n",
       "\n",
       "    .dataframe tbody tr th {\n",
       "        vertical-align: top;\n",
       "    }\n",
       "\n",
       "    .dataframe thead th {\n",
       "        text-align: right;\n",
       "    }\n",
       "</style>\n",
       "<table border=\"1\" class=\"dataframe\">\n",
       "  <thead>\n",
       "    <tr style=\"text-align: right;\">\n",
       "      <th></th>\n",
       "      <th>list_price</th>\n",
       "      <th>num_reviews</th>\n",
       "      <th>piece_count</th>\n",
       "      <th>play_star_rating</th>\n",
       "      <th>prod_id</th>\n",
       "      <th>star_rating</th>\n",
       "      <th>val_star_rating</th>\n",
       "    </tr>\n",
       "  </thead>\n",
       "  <tbody>\n",
       "    <tr>\n",
       "      <th>count</th>\n",
       "      <td>12261.000000</td>\n",
       "      <td>10641.000000</td>\n",
       "      <td>12261.000000</td>\n",
       "      <td>10486.000000</td>\n",
       "      <td>1.226100e+04</td>\n",
       "      <td>10641.000000</td>\n",
       "      <td>10466.000000</td>\n",
       "    </tr>\n",
       "    <tr>\n",
       "      <th>mean</th>\n",
       "      <td>65.141998</td>\n",
       "      <td>16.826238</td>\n",
       "      <td>493.405921</td>\n",
       "      <td>4.337641</td>\n",
       "      <td>5.983675e+04</td>\n",
       "      <td>4.514134</td>\n",
       "      <td>4.228960</td>\n",
       "    </tr>\n",
       "    <tr>\n",
       "      <th>std</th>\n",
       "      <td>91.980429</td>\n",
       "      <td>36.368984</td>\n",
       "      <td>825.364580</td>\n",
       "      <td>0.652051</td>\n",
       "      <td>1.638115e+05</td>\n",
       "      <td>0.518865</td>\n",
       "      <td>0.660282</td>\n",
       "    </tr>\n",
       "    <tr>\n",
       "      <th>min</th>\n",
       "      <td>2.272400</td>\n",
       "      <td>1.000000</td>\n",
       "      <td>1.000000</td>\n",
       "      <td>1.000000</td>\n",
       "      <td>6.300000e+02</td>\n",
       "      <td>1.800000</td>\n",
       "      <td>1.000000</td>\n",
       "    </tr>\n",
       "    <tr>\n",
       "      <th>25%</th>\n",
       "      <td>19.990000</td>\n",
       "      <td>2.000000</td>\n",
       "      <td>97.000000</td>\n",
       "      <td>4.000000</td>\n",
       "      <td>2.103400e+04</td>\n",
       "      <td>4.300000</td>\n",
       "      <td>4.000000</td>\n",
       "    </tr>\n",
       "    <tr>\n",
       "      <th>50%</th>\n",
       "      <td>36.587800</td>\n",
       "      <td>6.000000</td>\n",
       "      <td>216.000000</td>\n",
       "      <td>4.500000</td>\n",
       "      <td>4.206900e+04</td>\n",
       "      <td>4.700000</td>\n",
       "      <td>4.300000</td>\n",
       "    </tr>\n",
       "    <tr>\n",
       "      <th>75%</th>\n",
       "      <td>70.192200</td>\n",
       "      <td>13.000000</td>\n",
       "      <td>544.000000</td>\n",
       "      <td>4.800000</td>\n",
       "      <td>7.092200e+04</td>\n",
       "      <td>5.000000</td>\n",
       "      <td>4.700000</td>\n",
       "    </tr>\n",
       "    <tr>\n",
       "      <th>max</th>\n",
       "      <td>1104.870000</td>\n",
       "      <td>367.000000</td>\n",
       "      <td>7541.000000</td>\n",
       "      <td>5.000000</td>\n",
       "      <td>2.000431e+06</td>\n",
       "      <td>5.000000</td>\n",
       "      <td>5.000000</td>\n",
       "    </tr>\n",
       "  </tbody>\n",
       "</table>\n",
       "</div>"
      ],
      "text/plain": [
       "         list_price   num_reviews   piece_count  play_star_rating  \\\n",
       "count  12261.000000  10641.000000  12261.000000      10486.000000   \n",
       "mean      65.141998     16.826238    493.405921          4.337641   \n",
       "std       91.980429     36.368984    825.364580          0.652051   \n",
       "min        2.272400      1.000000      1.000000          1.000000   \n",
       "25%       19.990000      2.000000     97.000000          4.000000   \n",
       "50%       36.587800      6.000000    216.000000          4.500000   \n",
       "75%       70.192200     13.000000    544.000000          4.800000   \n",
       "max     1104.870000    367.000000   7541.000000          5.000000   \n",
       "\n",
       "            prod_id   star_rating  val_star_rating  \n",
       "count  1.226100e+04  10641.000000     10466.000000  \n",
       "mean   5.983675e+04      4.514134         4.228960  \n",
       "std    1.638115e+05      0.518865         0.660282  \n",
       "min    6.300000e+02      1.800000         1.000000  \n",
       "25%    2.103400e+04      4.300000         4.000000  \n",
       "50%    4.206900e+04      4.700000         4.300000  \n",
       "75%    7.092200e+04      5.000000         4.700000  \n",
       "max    2.000431e+06      5.000000         5.000000  "
      ]
     },
     "execution_count": 5,
     "metadata": {},
     "output_type": "execute_result"
    }
   ],
   "source": [
    "# Call the .describe() method\n",
    "df.describe()"
   ]
  },
  {
   "cell_type": "markdown",
   "metadata": {},
   "source": [
    "#### Interpreting the Results\n",
    "\n",
    "The output contains descriptive statistics corresponding to the columns. Use these to answer the following questions:\n",
    "\n",
    "- How much is the standard deviation for `piece count`?\n",
    "    - 825.365\n",
    "- How many pieces are in the largest lego set?\n",
    "    - 7,541\n",
    "- How many in the smallest lego set?\n",
    "    - 1\n",
    "- What is the median `val_star_rating`?\n",
    "    - 4.3\n",
    "\n",
    "________________________________________________________________________________________________________________________________"
   ]
  },
  {
   "cell_type": "markdown",
   "metadata": {},
   "source": [
    "## Getting Summary Statistics\n",
    "\n",
    "Pandas also allows us to easily compute individual summary statistics using built-in methods.  Next, we'll get some practice using these methods. \n",
    "\n",
    "In the cell below, compute the median value of the `star_rating` column."
   ]
  },
  {
   "cell_type": "code",
   "execution_count": 6,
   "metadata": {},
   "outputs": [
    {
     "data": {
      "text/plain": [
       "4.7"
      ]
     },
     "execution_count": 6,
     "metadata": {},
     "output_type": "execute_result"
    }
   ],
   "source": [
    "# Calculate the median of the star_rating column\n",
    "df['star_rating'].median()"
   ]
  },
  {
   "cell_type": "markdown",
   "metadata": {},
   "source": [
    "Next, get a count of the total number of unique values in `play_star_rating`."
   ]
  },
  {
   "cell_type": "code",
   "execution_count": 17,
   "metadata": {},
   "outputs": [
    {
     "name": "stdout",
     "output_type": "stream",
     "text": [
      "[1.0, 2.0, 2.1, 2.2, 2.3, 2.5, 2.7, 2.8, 2.9, 3.0, 3.1, 3.2, 3.3, 3.4, 3.5, 3.6, 3.7, 3.8, 3.9, 4.0, 4.1, 4.2, 4.3, 4.4, 4.5, 4.6, 4.7, 4.8, 5.0, nan, 4.9]\n",
      "30\n"
     ]
    }
   ],
   "source": [
    "# Print the number of unique values in play_star_rating\n",
    "print(sorted(df['play_star_rating'].unique()))\n",
    "\n",
    "print(df['play_star_rating'].nunique())"
   ]
  },
  {
   "cell_type": "markdown",
   "metadata": {},
   "source": [
    "Now, compute the standard deviation of the `list_price` column."
   ]
  },
  {
   "cell_type": "code",
   "execution_count": 18,
   "metadata": {},
   "outputs": [
    {
     "data": {
      "text/plain": [
       "91.9804293059243"
      ]
     },
     "execution_count": 18,
     "metadata": {},
     "output_type": "execute_result"
    }
   ],
   "source": [
    "# Calculate the standard deviation of the list_price column\n",
    "df['list_price'].std()"
   ]
  },
  {
   "cell_type": "markdown",
   "metadata": {},
   "source": [
    "If we bought every single lego set in this dataset, how many pieces would we have?  \n",
    "\n",
    "> **Note**: If you truly want to answer this accurately, and are up for the challenge, remove duplicate lego-set entries before summing the pieces. That is, many of the lego sets are listed multiple times in the dataset above, depending on the country where it is being sold and other unique parameters. If you're stuck, just practice calculating the total number of pieces in the dataset for now."
   ]
  },
  {
   "cell_type": "code",
   "execution_count": 31,
   "metadata": {},
   "outputs": [
    {
     "data": {
      "text/plain": [
       "319071.0"
      ]
     },
     "execution_count": 31,
     "metadata": {},
     "output_type": "execute_result"
    }
   ],
   "source": [
    "# Total number of pieces across all unique Lego sets\n",
    "df.drop_duplicates(subset='prod_id')['piece_count'].sum()"
   ]
  },
  {
   "cell_type": "markdown",
   "metadata": {},
   "source": [
    "Now, let's try getting the value for the 90% quantile for all numerical columns.  Do this in the cell below."
   ]
  },
  {
   "cell_type": "code",
   "execution_count": 32,
   "metadata": {},
   "outputs": [
    {
     "name": "stdout",
     "output_type": "stream",
     "text": [
      "list_price            136.2971\n",
      "num_reviews            38.0000\n",
      "piece_count          1077.0000\n",
      "play_star_rating        5.0000\n",
      "prod_id             75531.0000\n",
      "star_rating             5.0000\n",
      "val_star_rating         5.0000\n",
      "Name: 0.9, dtype: float64\n"
     ]
    }
   ],
   "source": [
    "# Get the 90% quantile for all numerical columns\n",
    "print(df.quantile(.9))"
   ]
  },
  {
   "cell_type": "markdown",
   "metadata": {},
   "source": [
    "## Getting Summary Statistics on Categorical Data\n",
    "\n",
    "For obvious reasons, most of the methods we've used so far only work with numerical data -- there's no way to calculate the standard deviation of a column containing string values. However, there are some things that we can discover about columns containing categorical data. \n",
    "\n",
    "In the cell below, print the unique values contained within the `review_difficulty` column. "
   ]
  },
  {
   "cell_type": "code",
   "execution_count": 29,
   "metadata": {},
   "outputs": [
    {
     "name": "stdout",
     "output_type": "stream",
     "text": [
      "['Average' 'Easy' 'Challenging' 'Very Easy' 'Very Challenging']\n"
     ]
    }
   ],
   "source": [
    "# Print the unique values in the review_difficulty column\n",
    "print(df['review_difficulty'].dropna().unique())"
   ]
  },
  {
   "cell_type": "markdown",
   "metadata": {},
   "source": [
    "Now, let's get the `value_counts()` for this column, to see how common each is. "
   ]
  },
  {
   "cell_type": "code",
   "execution_count": 33,
   "metadata": {},
   "outputs": [
    {
     "data": {
      "text/plain": [
       "Easy                4236\n",
       "Average             3765\n",
       "Very Easy           1139\n",
       "Challenging         1058\n",
       "Very Challenging       8\n",
       "Name: review_difficulty, dtype: int64"
      ]
     },
     "execution_count": 33,
     "metadata": {},
     "output_type": "execute_result"
    }
   ],
   "source": [
    "# Get the value_counts() of the review_difficulty column\n",
    "df['review_difficulty'].value_counts()"
   ]
  },
  {
   "cell_type": "markdown",
   "metadata": {},
   "source": [
    "As you can see, these provide us quick and easy ways to get information on columns containing categorical information.  \n",
    "\n",
    "\n",
    "## Using `.applymap()`\n",
    "\n",
    "When working with pandas DataFrames, we can quickly compute functions on the data contained by using the `.applymap()` method and passing in a lambda function. \n",
    "\n",
    "For instance, we can use `applymap()` to return a version of the DataFrame where every value has been converted to a string.\n",
    "\n",
    "In the cell below:\n",
    "\n",
    "* Call the DataFrame's `.applymap()` method and pass in `lambda x: str(x)`  \n",
    "* Call the new `string_df` object's `.info()` method to confirm that everything has been cast to a string"
   ]
  },
  {
   "cell_type": "code",
   "execution_count": 35,
   "metadata": {},
   "outputs": [
    {
     "name": "stdout",
     "output_type": "stream",
     "text": [
      "<class 'pandas.core.frame.DataFrame'>\n",
      "RangeIndex: 12261 entries, 0 to 12260\n",
      "Data columns (total 14 columns):\n",
      " #   Column             Non-Null Count  Dtype \n",
      "---  ------             --------------  ----- \n",
      " 0   ages               12261 non-null  object\n",
      " 1   list_price         12261 non-null  object\n",
      " 2   num_reviews        12261 non-null  object\n",
      " 3   piece_count        12261 non-null  object\n",
      " 4   play_star_rating   12261 non-null  object\n",
      " 5   prod_desc          12261 non-null  object\n",
      " 6   prod_id            12261 non-null  object\n",
      " 7   prod_long_desc     12261 non-null  object\n",
      " 8   review_difficulty  12261 non-null  object\n",
      " 9   set_name           12261 non-null  object\n",
      " 10  star_rating        12261 non-null  object\n",
      " 11  theme_name         12261 non-null  object\n",
      " 12  val_star_rating    12261 non-null  object\n",
      " 13  country            12261 non-null  object\n",
      "dtypes: object(14)\n",
      "memory usage: 1.3+ MB\n"
     ]
    }
   ],
   "source": [
    "# Call the .applymap() method\n",
    "string_df = df.applymap(lambda x: str(x))\n",
    "\n",
    "# Call the .info() method\n",
    "string_df.info()"
   ]
  },
  {
   "cell_type": "markdown",
   "metadata": {},
   "source": [
    "Note that everything -- even the `NaN` values, have been cast to a string in the example above. \n",
    "\n",
    "Note that for Pandas Series objects (such as a single column in a DataFrame), we can do the same thing using the `.apply()` method.  \n",
    "\n",
    "This is just one example of how we can quickly compute custom functions on our DataFrame -- this will become especially useful when we learn how to **_normalize_** our datasets in a later section!\n",
    "\n",
    "## Summary\n",
    "\n",
    "In this lab, we learned how to:\n",
    "\n",
    "* Use the `df.describe()` and `df.info()` summary statistics methods \n",
    "* Use built-in Pandas methods for calculating summary statistics \n",
    "* Apply a function to every element in a DataFrame"
   ]
  }
 ],
 "metadata": {
  "kernelspec": {
   "display_name": "Python 3",
   "language": "python",
   "name": "python3"
  },
  "language_info": {
   "codemirror_mode": {
    "name": "ipython",
    "version": 3
   },
   "file_extension": ".py",
   "mimetype": "text/x-python",
   "name": "python",
   "nbconvert_exporter": "python",
   "pygments_lexer": "ipython3",
   "version": "3.8.5"
  },
  "toc": {
   "base_numbering": 1,
   "nav_menu": {},
   "number_sections": true,
   "sideBar": true,
   "skip_h1_title": false,
   "title_cell": "Table of Contents",
   "title_sidebar": "Contents",
   "toc_cell": false,
   "toc_position": {},
   "toc_section_display": true,
   "toc_window_display": false
  },
  "varInspector": {
   "cols": {
    "lenName": 16,
    "lenType": 16,
    "lenVar": 40
   },
   "kernels_config": {
    "python": {
     "delete_cmd_postfix": "",
     "delete_cmd_prefix": "del ",
     "library": "var_list.py",
     "varRefreshCmd": "print(var_dic_list())"
    },
    "r": {
     "delete_cmd_postfix": ") ",
     "delete_cmd_prefix": "rm(",
     "library": "var_list.r",
     "varRefreshCmd": "cat(var_dic_list()) "
    }
   },
   "types_to_exclude": [
    "module",
    "function",
    "builtin_function_or_method",
    "instance",
    "_Feature"
   ],
   "window_display": false
  }
 },
 "nbformat": 4,
 "nbformat_minor": 2
}
